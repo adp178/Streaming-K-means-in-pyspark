{
 "cells": [
  {
   "cell_type": "code",
   "execution_count": 26,
   "metadata": {},
   "outputs": [],
   "source": [
    "# Importing the required classes\n",
    "from pyspark.mllib.linalg import Vectors\n",
    "from pyspark.mllib.clustering import StreamingKMeans\n",
    "from pyspark.streaming import StreamingContext"
   ]
  },
  {
   "cell_type": "code",
   "execution_count": 27,
   "metadata": {},
   "outputs": [],
   "source": [
    "ssc = StreamingContext(sc,1) "
   ]
  },
  {
   "cell_type": "code",
   "execution_count": 28,
   "metadata": {},
   "outputs": [],
   "source": [
    "train_Data = sc.textFile(\"data.txt\") \n",
    "train_Data2 = train_Data.map(lambda s:eval(s)) \n",
    "train_Data3 = train_Data2.map(lambda x:Vectors.dense(x))"
   ]
  },
  {
   "cell_type": "code",
   "execution_count": 29,
   "metadata": {},
   "outputs": [],
   "source": [
    "test_Data = sc.textFile(\"testdata.txt\")\n",
    "test_Data2 = test_Data.map(lambda s:eval(s)) \n",
    "test_Data3 = test_Data2.map(lambda x:Vectors.dense(x)) "
   ]
  },
  {
   "cell_type": "code",
   "execution_count": 30,
   "metadata": {},
   "outputs": [],
   "source": [
    "trainingQueue = [train_Data3] #a list of RDD \n",
    "testingQueue = [test_Data3] #a list of RDD "
   ]
  },
  {
   "cell_type": "code",
   "execution_count": 31,
   "metadata": {},
   "outputs": [],
   "source": [
    "trainingStream = ssc.queueStream(trainingQueue)\n",
    "testingStream = ssc.queueStream(testingQueue) "
   ]
  },
  {
   "cell_type": "code",
   "execution_count": 32,
   "metadata": {},
   "outputs": [],
   "source": [
    "trainingStreamWindowed = trainingStream.window(10000) # training stream windowed 10000"
   ]
  },
  {
   "cell_type": "code",
   "execution_count": 33,
   "metadata": {},
   "outputs": [],
   "source": [
    "#CREATING MODEL\n",
    "model = StreamingKMeans(k=20 , decayFactor = 0.8 , timeUnit = 'points')"
   ]
  },
  {
   "cell_type": "code",
   "execution_count": 34,
   "metadata": {},
   "outputs": [],
   "source": [
    "centersRDD = sc.textFile('centers.txt') # read initial \n",
    "centersRDD2 = centersRDD.map(lambda s:eval(s)) # maping each string item into a list "
   ]
  },
  {
   "cell_type": "code",
   "execution_count": 35,
   "metadata": {},
   "outputs": [],
   "source": [
    "centersList = centersRDD2.collect() \n",
    "weightsList = [1.0 for i in range(20)] # set weight of each centers to 1.0"
   ]
  },
  {
   "cell_type": "code",
   "execution_count": 36,
   "metadata": {},
   "outputs": [
    {
     "data": {
      "text/plain": [
       "<pyspark.mllib.clustering.StreamingKMeans at 0x7f7db8348290>"
      ]
     },
     "execution_count": 36,
     "metadata": {},
     "output_type": "execute_result"
    }
   ],
   "source": [
    "model.setInitialCenters(centersList,weights=weightsList)"
   ]
  },
  {
   "cell_type": "code",
   "execution_count": 37,
   "metadata": {},
   "outputs": [],
   "source": [
    "model.trainOn(trainingStreamWindowed) # seting training of k-means model on windowed training stream"
   ]
  },
  {
   "cell_type": "code",
   "execution_count": 38,
   "metadata": {},
   "outputs": [],
   "source": [
    "# function that saves clusterNumber,testDataVector in a text file\n",
    "def saveClusterNumberTestingDataPoint(clusterNumbersRdd):\n",
    "    z = clusterNumbersRdd.zip(test_Data2)\n",
    "    z.coalesce(1).saveAsTextFile('PredictedClusterNumbersfinal')"
   ]
  },
  {
   "cell_type": "code",
   "execution_count": 39,
   "metadata": {},
   "outputs": [],
   "source": [
    "result = model.predictOn(testingStream) # use trained model to predict cluster numbers \n",
    "result.foreachRDD(saveClusterNumberTestingDataPoint) "
   ]
  },
  {
   "cell_type": "code",
   "execution_count": 40,
   "metadata": {},
   "outputs": [],
   "source": [
    "ssc.start() # start streaming clustering"
   ]
  },
  {
   "cell_type": "code",
   "execution_count": 41,
   "metadata": {},
   "outputs": [],
   "source": [
    "ssc.stop(stopSparkContext=False) # stop streaming clustering"
   ]
  },
  {
   "cell_type": "code",
   "execution_count": 42,
   "metadata": {},
   "outputs": [],
   "source": [
    "centersList = list(model.latestModel().clusterCenters) # Get a list of centers \n",
    "centersList2 = [list(x) for x in centersList] # Convert each array into a list\n",
    "indexList = [i for i in range(20)] # create index list for centers. It ranges from 0 to 19 "
   ]
  },
  {
   "cell_type": "code",
   "execution_count": 43,
   "metadata": {},
   "outputs": [],
   "source": [
    "indexesCentersList = zip(indexList,centersList2) # zip the 2 lists so that each index gets associated with a center"
   ]
  },
  {
   "cell_type": "code",
   "execution_count": 24,
   "metadata": {},
   "outputs": [],
   "source": [
    "indexesCentersRDD = sc.parallelize(indexesCentersList) # create RDD of zipped list"
   ]
  },
  {
   "cell_type": "code",
   "execution_count": 44,
   "metadata": {},
   "outputs": [],
   "source": [
    "indexesCentersRDD.coalesce(1).saveAsTextFile('ClusterCenterfinal') # save the indexes and centers as a text file"
   ]
  }
 ],
 "metadata": {
  "kernelspec": {
   "display_name": "Spark in Python 3 (3.7)",
   "language": "python",
   "name": "pyspark"
  },
  "language_info": {
   "codemirror_mode": {
    "name": "ipython",
    "version": 3
   },
   "file_extension": ".py",
   "mimetype": "text/x-python",
   "name": "python",
   "nbconvert_exporter": "python",
   "pygments_lexer": "ipython3",
   "version": "3.7.7"
  }
 },
 "nbformat": 4,
 "nbformat_minor": 4
}
